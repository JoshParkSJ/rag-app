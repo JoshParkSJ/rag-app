{
 "cells": [
  {
   "cell_type": "markdown",
   "id": "45b98f11",
   "metadata": {},
   "source": [
    "# ReRank"
   ]
  },
  {
   "cell_type": "markdown",
   "id": "06335224",
   "metadata": {},
   "source": [
    "## Setup\n",
    "\n",
    "Load needed API keys and relevant Python libaries."
   ]
  },
  {
   "cell_type": "code",
   "execution_count": null,
   "id": "c54004a6",
   "metadata": {
    "height": 47
   },
   "outputs": [],
   "source": [
    "# !pip install cohere\n",
    "# !pip install weaviate-client"
   ]
  },
  {
   "cell_type": "code",
   "execution_count": null,
   "id": "45ff94ae-8603-431a-acee-0ec3a39a1056",
   "metadata": {
    "height": 81
   },
   "outputs": [],
   "source": [
    "import os\n",
    "from dotenv import load_dotenv, find_dotenv\n",
    "_ = load_dotenv(find_dotenv()) # read local .env file"
   ]
  },
  {
   "cell_type": "markdown",
   "id": "c23677b6",
   "metadata": {},
   "source": [
    "Let's start by imporing Weaviate to access the Wikipedia database."
   ]
  },
  {
   "cell_type": "code",
   "execution_count": null,
   "id": "f44886bf-f8cf-4f90-83ae-2299ec448e16",
   "metadata": {
    "height": 98
   },
   "outputs": [],
   "source": [
    "import cohere\n",
    "co = cohere.Client(os.environ['COHERE_API_KEY'])"
   ]
  },
  {
   "cell_type": "code",
   "execution_count": null,
   "id": "750583ec-7263-4927-b484-9818fba3318b",
   "metadata": {
    "height": 149
   },
   "outputs": [],
   "source": [
    "import weaviate\n",
    "auth_config = weaviate.auth.AuthApiKey(\n",
    "    api_key=os.environ['WEAVIATE_API_KEY'])"
   ]
  },
  {
   "cell_type": "code",
   "execution_count": null,
   "id": "2efcdfdc-1566-4046-95d8-f9f2f3a36088",
   "metadata": {
    "height": 30
   },
   "outputs": [],
   "source": [
    "client = weaviate.Client(\n",
    "    url=os.environ['WEAVIATE_API_URL'],\n",
    "    auth_client_secret=auth_config,\n",
    "    additional_headers={\n",
    "        \"X-Cohere-Api-Key\": os.environ['COHERE_API_KEY'],\n",
    "    }\n",
    ")"
   ]
  },
  {
   "cell_type": "markdown",
   "id": "78acc1ed",
   "metadata": {},
   "source": [
    "## Dense Retrieval"
   ]
  },
  {
   "cell_type": "code",
   "execution_count": null,
   "id": "017cd922-c729-4aa7-8696-d11d28eb7288",
   "metadata": {
    "height": 421
   },
   "outputs": [],
   "source": [
    "from utils import dense_retrieval\n",
    "query = \"What is the capital of Canada?\"\n",
    "dense_retrieval_results = dense_retrieval(query, client)\n",
    "\n",
    "from utils import print_result\n",
    "print_result(dense_retrieval_results)"
   ]
  },
  {
   "cell_type": "markdown",
   "id": "b15686a7",
   "metadata": {},
   "source": [
    "## Improving Keyword Search with ReRank"
   ]
  },
  {
   "cell_type": "code",
   "execution_count": null,
   "id": "260397fc-2799-426d-8b82-afbe9c3a126e",
   "metadata": {
    "height": 47
   },
   "outputs": [],
   "source": [
    "from utils import keyword_search\n",
    "\n",
    "query_1 = \"What is the capital of Canada?\"\n",
    "\n",
    "query_1 = \"What is the capital of Canada?\"\n",
    "results = keyword_search(query_1,\n",
    "                         client,\n",
    "                         properties=[\"text\", \"title\", \"url\", \"views\", \"lang\", \"_additional {distance}\"],\n",
    "                         num_results=3\n",
    "                        )\n",
    "\n",
    "for i, result in enumerate(results):\n",
    "    print(f\"i:{i}\")\n",
    "    print(result.get('title'))\n",
    "    print(result.get('text'))"
   ]
  },
  {
   "cell_type": "code",
   "execution_count": null,
   "id": "2a2daa0b-dd23-4ffd-8b3d-d08b73e052b9",
   "metadata": {
    "height": 166
   },
   "outputs": [],
   "source": [
    "query_1 = \"What is the capital of Canada?\"\n",
    "results = keyword_search(query_1,\n",
    "                         client,\n",
    "                         properties=[\"text\", \"title\", \"url\", \"views\", \"lang\", \"_additional {distance}\"],\n",
    "                         num_results=500\n",
    "                        )\n",
    "\n",
    "for i, result in enumerate(results):\n",
    "    print(f\"i:{i}\")\n",
    "    print(result.get('title'))\n",
    "    #print(result.get('text'))"
   ]
  },
  {
   "cell_type": "code",
   "execution_count": null,
   "id": "6bdb1635-adad-411b-8059-d6b8b251fb2c",
   "metadata": {
    "collapsed": true,
    "height": 30,
    "jupyter": {
     "outputs_hidden": true
    },
    "scrolled": true
   },
   "outputs": [],
   "source": [
    "def rerank_responses(query, responses, num_responses=10):\n",
    "    reranked_responses = co.rerank(\n",
    "        model = 'rerank-english-v2.0',\n",
    "        query = query,\n",
    "        documents = responses,\n",
    "        top_n = num_responses,\n",
    "        )\n",
    "    return reranked_responses"
   ]
  },
  {
   "cell_type": "code",
   "execution_count": null,
   "id": "2350fa0e-f896-42af-bcb1-a7577f9c9be1",
   "metadata": {
    "height": 81
   },
   "outputs": [],
   "source": [
    "texts = [result.get('text') for result in results]\n",
    "reranked_text = rerank_responses(query_1, texts)"
   ]
  },
  {
   "cell_type": "code",
   "execution_count": null,
   "id": "99269036-ec4e-4852-85fc-19593df6e638",
   "metadata": {
    "height": 30
   },
   "outputs": [],
   "source": [
    "for i, rerank_result in enumerate(reranked_text):\n",
    "    print(f\"i:{i}\")\n",
    "    print(f\"{rerank_result}\")\n",
    "    print()"
   ]
  },
  {
   "cell_type": "markdown",
   "id": "f40ca604-5ab7-4f35-86b1-0420842b6b6b",
   "metadata": {},
   "source": [
    "## Improving Dense Retrieval with ReRank"
   ]
  },
  {
   "cell_type": "code",
   "execution_count": null,
   "id": "d57d59bd",
   "metadata": {},
   "outputs": [],
   "source": [
    "from utils import dense_retrieval\n",
    "\n",
    "query_2 = \"Who is the tallest person in history?\"\n",
    "\n",
    "results = dense_retrieval(query_2,client)\n",
    "\n",
    "for i, result in enumerate(results):\n",
    "    print(f\"i:{i}\")\n",
    "    print(result.get('title'))\n",
    "    print(result.get('text'))\n",
    "    print()\n",
    "\n",
    "\n",
    "texts = [result.get('text') for result in results]\n",
    "reranked_text = rerank_responses(query_2, texts)\n",
    "\n",
    "for i, rerank_result in enumerate(reranked_text):\n",
    "    print(f\"i:{i}\")\n",
    "    print(f\"{rerank_result}\")\n",
    "    print()"
   ]
  }
 ],
 "metadata": {
  "kernelspec": {
   "display_name": "Python 3 (ipykernel)",
   "language": "python",
   "name": "python3"
  },
  "language_info": {
   "codemirror_mode": {
    "name": "ipython",
    "version": 3
   },
   "file_extension": ".py",
   "mimetype": "text/x-python",
   "name": "python",
   "nbconvert_exporter": "python",
   "pygments_lexer": "ipython3",
   "version": "3.9.17"
  }
 },
 "nbformat": 4,
 "nbformat_minor": 5
}
